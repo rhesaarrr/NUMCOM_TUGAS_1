{
 "cells": [
  {
   "cell_type": "code",
   "execution_count": null,
   "metadata": {
    "vscode": {
     "languageId": "latex"
    }
   },
   "outputs": [],
   "source": [
    "\\documentclass[12pt, letterpaper]{article}\n",
    "\\title{Group 1 Assignmenr 1}\n",
    "\\begin{document}\n",
    "\\maketitle\n",
    "\\end{document}"
   ]
  },
  {
   "cell_type": "code",
   "execution_count": 1,
   "metadata": {},
   "outputs": [
    {
     "name": "stdout",
     "output_type": "stream",
     "text": [
      "Root: 1.014160\n",
      "Approximate error: 0.048146%\n"
     ]
    }
   ],
   "source": [
    "import math\n",
    "\n",
    "def f(x):\n",
    "    return (x**4 + math.exp(-2*x)) / math.log(x + 3) + math.tanh(x) - (5 - x**3) * (1 / math.cosh(x))**2\n",
    "\n",
    "def bisection_method(a, b, tol):\n",
    "    if f(a) * f(b) >= 0:\n",
    "        print(\"No root in the given interval.\")\n",
    "        return None\n",
    "    \n",
    "    c_old = a\n",
    "    epsilon_a = float('inf')\n",
    "    \n",
    "    while epsilon_a >= tol:\n",
    "        c = (a + b) / 2\n",
    "        fc = f(c)\n",
    "        epsilon_a = abs(c - c_old) / abs(c) * 100 if c != 0 else 0\n",
    "        \n",
    "        if epsilon_a < tol:\n",
    "            print(f\"Root: {c:.6f}\")\n",
    "            print(f\"Approximate error: {epsilon_a:.6f}%\")\n",
    "            return c\n",
    "        \n",
    "        if fc * f(a) < 0:\n",
    "            b = c\n",
    "        else:\n",
    "            a = c\n",
    "        \n",
    "        c_old = c\n",
    "    \n",
    "    return c\n",
    "\n",
    "a = 1  #xl\n",
    "b = 2  #xu\n",
    "tolerance = 0.05 \n",
    "root = bisection_method(a, b, tolerance)\n"
   ]
  }
 ],
 "metadata": {
  "kernelspec": {
   "display_name": "Python 3",
   "language": "python",
   "name": "python3"
  },
  "language_info": {
   "codemirror_mode": {
    "name": "ipython",
    "version": 3
   },
   "file_extension": ".py",
   "mimetype": "text/x-python",
   "name": "python",
   "nbconvert_exporter": "python",
   "pygments_lexer": "ipython3",
   "version": "3.11.9"
  }
 },
 "nbformat": 4,
 "nbformat_minor": 2
}
