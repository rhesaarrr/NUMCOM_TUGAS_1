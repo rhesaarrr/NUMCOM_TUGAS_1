{
 "cells": [
  {
   "cell_type": "code",
   "execution_count": null,
   "metadata": {
    "vscode": {
     "languageId": "latex"
    }
   },
   "outputs": [],
   "source": [
    "\\documentclass[12pt, letterpaper]{article}\n",
    "\\title{Group 1 Assignmenr 1}\n",
    "\\begin{document}\n",
    "\\maketitle\n",
    "\\end{document}"
   ]
  },
  {
   "cell_type": "code",
   "execution_count": 3,
   "metadata": {},
   "outputs": [
    {
     "name": "stdout",
     "output_type": "stream",
     "text": [
      "Root: 1.014160\n",
      "Approximate error: 0.048146%\n"
     ]
    }
   ],
   "source": [
    "import math\n",
    "\n",
    "def f(x):\n",
    "    return (x**4 + math.exp(-2*x)) / math.log(x + 3) + math.tanh(x) - (5 - x**3) * (1 / math.cosh(x))**2\n",
    "\n",
    "def bisection_method(xl, xu, tol):\n",
    "    if f(xl) * f(xu) >= 0:\n",
    "        print(\"No root in the given interval.\")\n",
    "        return None\n",
    "    \n",
    "    c_old = xu\n",
    "    epsilon_a = float('inf')\n",
    "    \n",
    "    while epsilon_a >= tol:\n",
    "        Xr = (xu + xl) / 2\n",
    "        c = f(Xr)\n",
    "        epsilon_a = abs(Xr - c_old) / abs(Xr) * 100 if Xr != 0 else 0\n",
    "        \n",
    "        if epsilon_a < tol:\n",
    "            print(f\"Root: {Xr:.6f}\")\n",
    "            print(f\"Approximate error: {epsilon_a:.6f}%\")\n",
    "            return Xr\n",
    "        \n",
    "        if c * f(xl) < 0:\n",
    "            xu = Xr\n",
    "        else:\n",
    "            xl = Xr\n",
    "        \n",
    "        c_old = Xr\n",
    "    \n",
    "    return Xr\n",
    "\n",
    "xl = 1  #xu\n",
    "xu = 2  #xl\n",
    "tolerance = 0.05 \n",
    "root = bisection_method(xu, xl, tolerance)\n"
   ]
  },
  {
   "cell_type": "markdown",
   "metadata": {},
   "source": [
    "START\n",
    "\n",
    "INPUT xl, xu, tolerance\n",
    "\n",
    "IF f(xl) * f(xu) >= 0 THEN\n",
    "    PRINT \"No root in the given interval\"\n",
    "    STOP\n",
    "END IF\n",
    "\n",
    "SET c_old = xu\n",
    "SET epsilon_a = ∞\n",
    "\n",
    "WHILE epsilon_a >= tolerance DO\n",
    "    SET Xr = (xl + xu) / 2\n",
    "    SET c = f(Xr)\n",
    "\n",
    "    IF Xr ≠ 0 THEN\n",
    "        SET epsilon_a = |(Xr - c_old) / Xr| * 100\n",
    "    ELSE\n",
    "        SET epsilon_a = 0\n",
    "    END IF\n",
    "\n",
    "    IF epsilon_a < tolerance THEN\n",
    "        PRINT \"Root:\", Xr\n",
    "        PRINT \"Approximate error:\", epsilon_a, \"%\"\n",
    "        STOP\n",
    "    END IF\n",
    "\n",
    "    IF c * f(xl) < 0 THEN\n",
    "        xu = Xr\n",
    "    ELSE\n",
    "        xl = Xr\n",
    "    END IF\n",
    "\n",
    "    SET c_old = Xr\n",
    "END WHILE\n",
    "\n",
    "PRINT \"Final root approximation:\", Xr\n",
    "\n",
    "END\n"
   ]
  },
  {
   "cell_type": "code",
   "execution_count": null,
   "metadata": {},
   "outputs": [],
   "source": []
  }
 ],
 "metadata": {
  "kernelspec": {
   "display_name": "Python 3",
   "language": "python",
   "name": "python3"
  },
  "language_info": {
   "codemirror_mode": {
    "name": "ipython",
    "version": 3
   },
   "file_extension": ".py",
   "mimetype": "text/x-python",
   "name": "python",
   "nbconvert_exporter": "python",
   "pygments_lexer": "ipython3",
   "version": "3.11.9"
  }
 },
 "nbformat": 4,
 "nbformat_minor": 2
}
